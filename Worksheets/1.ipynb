{
 "cells": [
  {
   "cell_type": "code",
   "execution_count": 1,
   "metadata": {},
   "outputs": [
    {
     "data": {
      "text/plain": [
       "'5. Bake at 200 degrees C for 30 minutes.'"
      ]
     },
     "execution_count": 1,
     "metadata": {},
     "output_type": "execute_result"
    }
   ],
   "source": [
    "\"1. Mix 500g of Flour, 10g Yeast and 300ml Water in a bowl.\" \"2. Knead the dough for 10 minutes.\"\n",
    "\"3. Add 3g of Salt.\"\n",
    "\"4. Leave to rise for 2 hours.\"\n",
    "\"5. Bake at 200 degrees C for 30 minutes.\""
   ]
  },
  {
   "cell_type": "code",
   "execution_count": 4,
   "metadata": {},
   "outputs": [
    {
     "name": "stdout",
     "output_type": "stream",
     "text": [
      "Hello Work.\n",
      "Hello Work.\n"
     ]
    }
   ],
   "source": [
    "print(\"Hello Work.\\nHello Work.\")"
   ]
  }
 ],
 "metadata": {
  "kernelspec": {
   "display_name": ".venv",
   "language": "python",
   "name": "python3"
  },
  "language_info": {
   "codemirror_mode": {
    "name": "ipython",
    "version": 3
   },
   "file_extension": ".py",
   "mimetype": "text/x-python",
   "name": "python",
   "nbconvert_exporter": "python",
   "pygments_lexer": "ipython3",
   "version": "3.13.1"
  }
 },
 "nbformat": 4,
 "nbformat_minor": 2
}
