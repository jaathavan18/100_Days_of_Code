{
 "cells": [
  {
   "cell_type": "code",
   "execution_count": 1,
   "metadata": {},
   "outputs": [
    {
     "data": {
      "text/plain": [
       "'5. Bake at 200 degrees C for 30 minutes.'"
      ]
     },
     "execution_count": 1,
     "metadata": {},
     "output_type": "execute_result"
    }
   ],
   "source": [
    "\"1. Mix 500g of Flour, 10g Yeast and 300ml Water in a bowl.\" \"2. Knead the dough for 10 minutes.\"\n",
    "\"3. Add 3g of Salt.\"\n",
    "\"4. Leave to rise for 2 hours.\"\n",
    "\"5. Bake at 200 degrees C for 30 minutes.\""
   ]
  },
  {
   "cell_type": "code",
   "execution_count": 4,
   "metadata": {},
   "outputs": [
    {
     "name": "stdout",
     "output_type": "stream",
     "text": [
      "Hello Work.\n",
      "Hello Work.\n"
     ]
    }
   ],
   "source": [
    "print(\"Hello Work.\\nHello Work.\")"
   ]
  },
  {
   "cell_type": "code",
   "execution_count": 2,
   "metadata": {},
   "outputs": [
    {
     "name": "stdout",
     "output_type": "stream",
     "text": [
      "3.0\n"
     ]
    }
   ],
   "source": [
    "print(3 * (3 + 3) / 3 - 3)"
   ]
  },
  {
   "cell_type": "code",
   "execution_count": 3,
   "metadata": {},
   "outputs": [
    {
     "name": "stdout",
     "output_type": "stream",
     "text": [
      "Welcome to the tip calculator!\n",
      "Each person should pay: 3.6\n"
     ]
    }
   ],
   "source": [
    "print(\"Welcome to the tip calculator!\")\n",
    "bill = float(input(\"What was the total bill? $\"))\n",
    "tip = int(input(\"What percentage tip would you like to give? 10 12 15 \"))\n",
    "people = int(input(\"How many people to split the bill? \"))\n",
    "total = (bill * (tip/100)) / people\n",
    "print(f\"Each person should pay: {total}\")"
   ]
  },
  {
   "cell_type": "code",
   "execution_count": 3,
   "metadata": {},
   "outputs": [
    {
     "name": "stdout",
     "output_type": "stream",
     "text": [
      "overweight\n"
     ]
    }
   ],
   "source": [
    "weight = 85\n",
    "height = 1.85\n",
    "\n",
    "bmi = weight / (height ** 2)\n",
    "bmi = 25\n",
    "# 🚨 Do not modify the values above\n",
    "# Write your code below 👇\n",
    "if bmi < 18.5:\n",
    "    print(\"underweight\")\n",
    "elif 18.5 <= bmi < 25:\n",
    "    print(\"normal weight\")\n",
    "else:\n",
    "    print(\"overweight\")"
   ]
  },
  {
   "cell_type": "code",
   "execution_count": 4,
   "metadata": {},
   "outputs": [
    {
     "data": {
      "text/plain": [
       "'Y'"
      ]
     },
     "execution_count": 4,
     "metadata": {},
     "output_type": "execute_result"
    }
   ],
   "source": [
    "\"y\".capitalize()"
   ]
  },
  {
   "cell_type": "code",
   "execution_count": 5,
   "metadata": {},
   "outputs": [
    {
     "name": "stdout",
     "output_type": "stream",
     "text": [
      "You fall into a hole, \n",
      "GAME OVER\n"
     ]
    }
   ],
   "source": [
    "print(\"You fall into a hole, \\nGAME OVER\")"
   ]
  }
 ],
 "metadata": {
  "kernelspec": {
   "display_name": ".venv",
   "language": "python",
   "name": "python3"
  },
  "language_info": {
   "codemirror_mode": {
    "name": "ipython",
    "version": 3
   },
   "file_extension": ".py",
   "mimetype": "text/x-python",
   "name": "python",
   "nbconvert_exporter": "python",
   "pygments_lexer": "ipython3",
   "version": "3.13.1"
  }
 },
 "nbformat": 4,
 "nbformat_minor": 2
}
